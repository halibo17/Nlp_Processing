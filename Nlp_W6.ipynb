{
 "cells": [
  {
   "cell_type": "markdown",
   "metadata": {},
   "source": [
    "# LESK algorithm"
   ]
  },
  {
   "cell_type": "code",
   "execution_count": 1,
   "metadata": {},
   "outputs": [],
   "source": [
    "from snowballstemmer import TurkishStemmer\n",
    "turkStem=TurkishStemmer()\n",
    "from nltk.tokenize import word_tokenize\n",
    "import pandas as pd \n",
    "import numpy as np"
   ]
  },
  {
   "cell_type": "code",
   "execution_count": 2,
   "metadata": {},
   "outputs": [],
   "source": [
    "dict_cay = {1 : \"demlenilen içilen bitki , içecek\" , 2 : \"Dereden büyük ırmaktan küçük yere sahip akarsu\" }"
   ]
  },
  {
   "cell_type": "code",
   "execution_count": 3,
   "metadata": {},
   "outputs": [],
   "source": [
    "sentences = ['Yemekten sonra demlenilen çayı getir ', 'Piknik için çay kenarında gölge bir yer arıyoruz']  "
   ]
  },
  {
   "cell_type": "code",
   "execution_count": 4,
   "metadata": {},
   "outputs": [],
   "source": [
    "def by_value(item):\n",
    "    return item[1]"
   ]
  },
  {
   "cell_type": "code",
   "execution_count": 5,
   "metadata": {},
   "outputs": [],
   "source": [
    "def lesk(sentence , dict_s , word):\n",
    "    y = {}\n",
    "    z = 0\n",
    "\n",
    "    sentence = word_tokenize(sentence)    \n",
    "    for i in range(len(sentence)):\n",
    "        sentence[i] = turkStem.stemWord(sentence[i])\n",
    "    \n",
    "    for key, value in dict_s.items():\n",
    "        x = 0\n",
    "        k = word_tokenize(value)\n",
    "        \n",
    "        for i in range(len(k)):            \n",
    "            k[i] = turkStem.stemWord(k[i])\n",
    "            \n",
    "            for j in range(len(sentence)):\n",
    "                if sentence[j] == k[i]:\n",
    "                    x += 1\n",
    "                    \n",
    "        y[key] = x\n",
    "        \n",
    "    for k, v in sorted(y.items(), key=by_value):\n",
    "        z = k    \n",
    "        \n",
    "    return dict_s[z]"
   ]
  },
  {
   "cell_type": "code",
   "execution_count": 11,
   "metadata": {},
   "outputs": [
    {
     "data": {
      "text/plain": [
       "'Dereden büyük ırmaktan küçük yere sahip akarsu'"
      ]
     },
     "execution_count": 11,
     "metadata": {},
     "output_type": "execute_result"
    }
   ],
   "source": [
    "lesk(sentences[1] , dict_cay , \"çay\")"
   ]
  },
  {
   "cell_type": "markdown",
   "metadata": {},
   "source": [
    "https://www.c-sharpcorner.com/article/lesk-algorithm-in-python-to-remove-word-ambiguity/"
   ]
  }
 ],
 "metadata": {
  "kernelspec": {
   "display_name": "Python 3",
   "language": "python",
   "name": "python3"
  },
  "language_info": {
   "codemirror_mode": {
    "name": "ipython",
    "version": 3
   },
   "file_extension": ".py",
   "mimetype": "text/x-python",
   "name": "python",
   "nbconvert_exporter": "python",
   "pygments_lexer": "ipython3",
   "version": "3.8.3"
  }
 },
 "nbformat": 4,
 "nbformat_minor": 4
}
