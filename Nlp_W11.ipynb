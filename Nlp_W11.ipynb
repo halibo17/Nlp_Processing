{
 "cells": [
  {
   "cell_type": "code",
   "execution_count": 1,
   "metadata": {},
   "outputs": [],
   "source": [
    "from nltk.corpus import stopwords\n",
    "from nltk.tokenize import word_tokenize, sent_tokenize\n",
    "from snowballstemmer import TurkishStemmer"
   ]
  },
  {
   "cell_type": "code",
   "execution_count": 2,
   "metadata": {},
   "outputs": [],
   "source": [
    "text_str = '''\n",
    "Hacı Ömer Sabancı, Kayseri'nin bir köyünde, Akçakaya'da doğdu. 13 yaşında babası Hacı Arap Sabancı'yı kaybettikten birkaç yıl sonra (1920 yılında), talihini denemek için köyünden ayrılan Hacı Ömer, 450 kilometrelik yolu yaya olarak katederek Adana'ya göç etti. Adana'daki yeni hayatına pamuk işçisi olarak başlayan Hacı Ömer, kısa sürede işçi müteahhitliği'ne başladı, bir iki yılda yaptığı tasarruflarla pamuk ticaretinde mütevazı bir iş kurdu. O dönemde yanında çalışan işçiler Hacı Ömer'i \"Ağa\" diye çağırmaya başladılar. 1928 yılında Sadıka Hanım'la evlendi ve İhsan, Sakıp, Hacı, Şevket, Erol ve Özdemir adında altı erkek çocuk sahibi oldu. 1943 yılında Yağsa'ya ortak olan Hacı Ömer, 1946 yılında arkadaşları ile beraber Marsa'yı aldı. Yaratıcı gücü, ileri görüşü ve yılmayan gayreti sayesinde, başarı zincirine birçok halkalar ekleyen Hacı Ömer önderliğinde, daha sonraki yıllarda sırasıyla Akbank, Bossa Un ve Çırçır Fabrikası, Bossa Tekstil Fabrikası, Oralitsa, Aksigorta, Teknosa kuruldu. 1951 yılında Atlı Köşk'ü alan Hacı Ömer, ailesiyle birlikte İstanbul'a taşınmanın ilk adımlarını da atmış oldu. Hacı Ömer Sabancı Vakfı VAKSA tarafından Hacı Ömer Sabancı adını taşıyan İstanbul'da Galatasaray Lisesi kapalı spor salonu ve VAKSA tarafından yenilenen tarihi Beylerbeyi Lisesi isim olarak Beylerbeyi Hacı Sabancı Anadolu Lisesi olarak değiştirildi, Adana'da kültür merkezi ve teknik öğrenci yurdu, Ankara'da kız öğrenci yurdu, Kayseri ve Van'da ilköğretim okulları yaptırıldı. 1950 yıllarında Türkiye'nin en zengin insanı idi. 1966 yılında, şeker ve kalp rahatsızlıkları nedeniyle İstanbul Hilton Oteli 237 numaralı odada öldü. Cenazesi vasiyeti üzerine Adana'ya getirilip defnedildi.\n",
    "'''"
   ]
  },
  {
   "cell_type": "code",
   "execution_count": 3,
   "metadata": {},
   "outputs": [],
   "source": [
    "def frequency_table(text_string):\n",
    "\n",
    "    stopWords = set(stopwords.words(\"turkish\"))\n",
    "    words = word_tokenize(text_string)\n",
    "    ts=TurkishStemmer()\n",
    "\n",
    "    freqTable = dict()\n",
    "    for word in words:\n",
    "        word = ts.stemWord(word)\n",
    "        if word in stopWords:\n",
    "            continue\n",
    "        if word in freqTable:\n",
    "            freqTable[word] += 1\n",
    "        else:\n",
    "            freqTable[word] = 1\n",
    "\n",
    "    return freqTable"
   ]
  },
  {
   "cell_type": "code",
   "execution_count": 4,
   "metadata": {},
   "outputs": [],
   "source": [
    "def score_sentences(sentences, freqTable):\n",
    "    sentenceValue = dict()\n",
    "\n",
    "    for sentence in sentences:\n",
    "        word_count_in_sentence = (len(word_tokenize(sentence)))\n",
    "        word_count_in_sentence_except_stop_words = 0\n",
    "        for wordValue in freqTable:\n",
    "            if wordValue in sentence.lower():\n",
    "                word_count_in_sentence_except_stop_words += 1\n",
    "                if sentence[:10] in sentenceValue:\n",
    "                    sentenceValue[sentence[:10]] += freqTable[wordValue]\n",
    "                else:\n",
    "                    sentenceValue[sentence[:10]] = freqTable[wordValue]\n",
    "\n",
    "        if sentence[:10] in sentenceValue:\n",
    "            sentenceValue[sentence[:10]] = sentenceValue[sentence[:10]] / word_count_in_sentence_except_stop_words\n",
    "    return sentenceValue"
   ]
  },
  {
   "cell_type": "code",
   "execution_count": 5,
   "metadata": {},
   "outputs": [],
   "source": [
    "def find_average_score(sentenceValue):\n",
    "    sumValues = 0\n",
    "    for entry in sentenceValue:\n",
    "        sumValues += sentenceValue[entry]\n",
    "\n",
    "    # Average value of a sentence from original text\n",
    "    average = (sumValues / len(sentenceValue))\n",
    "\n",
    "    return average"
   ]
  },
  {
   "cell_type": "code",
   "execution_count": 6,
   "metadata": {},
   "outputs": [],
   "source": [
    "def generate_summary(sentences, sentenceValue, threshold):\n",
    "    sentence_count = 0\n",
    "    summary = ''\n",
    "\n",
    "    for sentence in sentences:\n",
    "        if sentence[:10] in sentenceValue and sentenceValue[sentence[:10]] >= (threshold):\n",
    "            summary += \" \" + sentence\n",
    "            sentence_count += 1\n",
    "\n",
    "    return summary"
   ]
  },
  {
   "cell_type": "code",
   "execution_count": 7,
   "metadata": {},
   "outputs": [],
   "source": [
    "def run_summarization(text):\n",
    "    # 1 Create the word frequency table\n",
    "    freq_table = frequency_table(text)\n",
    "\n",
    "    # 2 Tokenize the sentences\n",
    "    sentences = sent_tokenize(text)\n",
    "\n",
    "    # 3 Important Algorithm: score the sentences\n",
    "    sentence_scores = score_sentences(sentences, freq_table)\n",
    "\n",
    "    # 4 Find the threshold\n",
    "    threshold = find_average_score(sentence_scores)\n",
    "\n",
    "    # 5 Important Algorithm: Generate the summary\n",
    "    summary = generate_summary(sentences, sentence_scores, 1.3 * threshold)\n",
    "\n",
    "    return summary"
   ]
  },
  {
   "cell_type": "code",
   "execution_count": 8,
   "metadata": {},
   "outputs": [
    {
     "name": "stdout",
     "output_type": "stream",
     "text": [
      " \n",
      "Hacı Ömer Sabancı, Kayseri'nin bir köyünde, Akçakaya'da doğdu. 1928 yılında Sadıka Hanım'la evlendi ve İhsan, Sakıp, Hacı, Şevket, Erol ve Özdemir adında altı erkek çocuk sahibi oldu.\n"
     ]
    }
   ],
   "source": [
    "result = run_summarization(text_str)\n",
    "print(result)"
   ]
  },
  {
   "cell_type": "code",
   "execution_count": null,
   "metadata": {},
   "outputs": [],
   "source": []
  }
 ],
 "metadata": {
  "coursera": {
   "schema_names": [
    "NLPC2-3"
   ]
  },
  "kernelspec": {
   "display_name": "Python 3",
   "language": "python",
   "name": "python3"
  },
  "language_info": {
   "codemirror_mode": {
    "name": "ipython",
    "version": 3
   },
   "file_extension": ".py",
   "mimetype": "text/x-python",
   "name": "python",
   "nbconvert_exporter": "python",
   "pygments_lexer": "ipython3",
   "version": "3.8.5"
  }
 },
 "nbformat": 4,
 "nbformat_minor": 4
}
