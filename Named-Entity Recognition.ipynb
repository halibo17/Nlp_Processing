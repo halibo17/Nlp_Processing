{
 "cells": [
  {
   "cell_type": "markdown",
   "metadata": {
    "colab_type": "text",
    "id": "q4gSqDnOaJ7W"
   },
   "source": [
    "<h2 align=center> Named Entity Recognition (NER) using Bi-LSTMs with Keras</h2>"
   ]
  },
  {
   "cell_type": "markdown",
   "metadata": {
    "colab_type": "text",
    "id": "fdo8oAodagwo"
   },
   "source": [
    "### 1. Project Overview and Import Modules"
   ]
  },
  {
   "cell_type": "code",
   "execution_count": 1,
   "metadata": {
    "colab": {
     "base_uri": "https://localhost:8080/",
     "height": 52
    },
    "colab_type": "code",
    "id": "oLK7Y1jiNXDa",
    "outputId": "0f319464-ee49-4035-f6fb-8396f488c41f"
   },
   "outputs": [
    {
     "name": "stdout",
     "output_type": "stream",
     "text": [
      "Tensorflow version: 2.3.0\n",
      "GPU detected: [PhysicalDevice(name='/physical_device:GPU:0', device_type='GPU')]\n"
     ]
    }
   ],
   "source": [
    "%matplotlib inline\n",
    "import matplotlib.pyplot as plt\n",
    "import pandas as pd\n",
    "import numpy as np\n",
    "np.random.seed(0)\n",
    "plt.style.use(\"ggplot\")\n",
    "\n",
    "import tensorflow as tf\n",
    "print('Tensorflow version:', tf.__version__)\n",
    "print('GPU detected:', tf.config.list_physical_devices('GPU'))"
   ]
  },
  {
   "cell_type": "markdown",
   "metadata": {
    "colab_type": "text",
    "id": "4N_AW6lMbB5N"
   },
   "source": [
    "### 2: Load and Explore the NER Dataset\n",
    "\n",
    "https://www.kaggle.com/behcetsenturk/shrinked-twnertc-turkish-ner-data-by-kuzgunlar\n",
    "\n",
    "https://data.mendeley.com/datasets/cdcztymf4k/1"
   ]
  },
  {
   "cell_type": "markdown",
   "metadata": {},
   "source": [
    "# tag_list.txt\n",
    "- B-academic\n",
    "- B-academic_person\n",
    "- B-aircraft\n",
    "- B-album_person\n",
    "- B-anatomy\n",
    "- B-animal\n",
    "- B-architect_person\n",
    "- B-capital\n",
    "- B-chemical\n",
    "- B-clothes\n",
    "- B-country\n",
    "- B-culture\n",
    "- B-currency\n",
    "- B-date\n",
    "- B-food\n",
    "- B-genre\n",
    "- B-government\n",
    "- B-government_person\n",
    "- B-language\n",
    "- B-location\n",
    "- B-material\n",
    "- B-measure\n",
    "- B-medical\n",
    "- B-military\n",
    "- B-military_person\n",
    "- B-nation\n",
    "- B-newspaper\n",
    "- B-organization\n",
    "- B-organization_person\n",
    "- B-person\n",
    "- B-production_art_music\n",
    "- B-production_art_music_person\n",
    "- B-quantity\n",
    "- B-religion\n",
    "- B-science\n",
    "- B-shape\n",
    "- B-ship\n",
    "- B-software\n",
    "- B-space\n",
    "- B-space_person\n",
    "- B-sport\n",
    "- B-sport_name\n",
    "- B-sport_person\n",
    "- B-structure\n",
    "- B-subject\n",
    "- B-tech\n",
    "- B-train\n",
    "- B-vehicle\n",
    "- I-academic\n",
    "- I-academic_person\n",
    "- I-aircraft\n",
    "- I-album_person\n",
    "- I-anatomy\n",
    "- I-animal\n",
    "- I-architect_person\n",
    "- I-capital\n",
    "- I-chemical\n",
    "- I-clothes\n",
    "- I-country\n",
    "- I-culture\n",
    "- I-currency\n",
    "- I-date\n",
    "- I-food\n",
    "- I-genre\n",
    "- I-government\n",
    "- I-government_person\n",
    "- I-language\n",
    "- I-location\n",
    "- I-material\n",
    "- I-measure\n",
    "- I-medical\n",
    "- I-military\n",
    "- I-military_person\n",
    "- I-nation\n",
    "- I-newspaper\n",
    "- I-organization\n",
    "- I-organization_person\n",
    "- I-person\n",
    "- I-production_art_music\n",
    "- I-production_art_music_person\n",
    "- I-religion\n",
    "- I-science\n",
    "- I-ship\n",
    "- I-software\n",
    "- I-space\n",
    "- I-space_person\n",
    "- I-sport\n",
    "- I-sport_name\n",
    "- I-sport_person\n",
    "- I-structure\n",
    "- I-subject\n",
    "- I-tech\n",
    "- I-train\n",
    "- I-vehicle\n",
    "- O"
   ]
  },
  {
   "cell_type": "code",
   "execution_count": 2,
   "metadata": {},
   "outputs": [
    {
     "name": "stderr",
     "output_type": "stream",
     "text": [
      "Skipping line 5547269: unexpected end of data\n"
     ]
    }
   ],
   "source": [
    "data = pd.read_table('train.txt',header=None,sep=\" \" ,error_bad_lines=False, \n",
    "                     engine=\"python\"  , encoding='utf-8', \n",
    "                     names=[\"word\", \"tag\"])"
   ]
  },
  {
   "cell_type": "code",
   "execution_count": 3,
   "metadata": {},
   "outputs": [
    {
     "data": {
      "text/plain": [
       "0                 NGC\n",
       "1                5713\n",
       "2               Başak\n",
       "3        takımyıldızı\n",
       "4          bölgesinde\n",
       "5             bulunan\n",
       "6               tuhaf\n",
       "7           asimetrik\n",
       "8              gökada\n",
       "9                   .\n",
       "10             Birçok\n",
       "11          katalogda\n",
       "12             sarmal\n",
       "13             gökada\n",
       "14             olarak\n",
       "15    sınıflandırılan\n",
       "16                NGC\n",
       "17               5713\n",
       "18                  ,\n",
       "19                pek\n",
       "Name: word, dtype: object"
      ]
     },
     "execution_count": 3,
     "metadata": {},
     "output_type": "execute_result"
    }
   ],
   "source": [
    "data['word'][:20]"
   ]
  },
  {
   "cell_type": "code",
   "execution_count": 4,
   "metadata": {},
   "outputs": [
    {
     "name": "stdout",
     "output_type": "stream",
     "text": [
      "Unique words in corpus:  452444\n"
     ]
    }
   ],
   "source": [
    "print(\"Unique words in corpus: \", data['word'].nunique())"
   ]
  },
  {
   "cell_type": "code",
   "execution_count": 5,
   "metadata": {},
   "outputs": [
    {
     "name": "stdout",
     "output_type": "stream",
     "text": [
      "Unique words in corpus:  95\n"
     ]
    }
   ],
   "source": [
    "print(\"Unique words in corpus: \", data['tag'].nunique())"
   ]
  },
  {
   "cell_type": "code",
   "execution_count": 6,
   "metadata": {},
   "outputs": [],
   "source": [
    "tag_data = pd.read_table('tag_list.txt',header=None,sep=\" \" ,error_bad_lines=False, \n",
    "                     engine=\"python\"  , encoding='utf-8', \n",
    "                     names=[\"tag\"])"
   ]
  },
  {
   "cell_type": "code",
   "execution_count": 7,
   "metadata": {},
   "outputs": [
    {
     "data": {
      "text/html": [
       "<div>\n",
       "<style scoped>\n",
       "    .dataframe tbody tr th:only-of-type {\n",
       "        vertical-align: middle;\n",
       "    }\n",
       "\n",
       "    .dataframe tbody tr th {\n",
       "        vertical-align: top;\n",
       "    }\n",
       "\n",
       "    .dataframe thead th {\n",
       "        text-align: right;\n",
       "    }\n",
       "</style>\n",
       "<table border=\"1\" class=\"dataframe\">\n",
       "  <thead>\n",
       "    <tr style=\"text-align: right;\">\n",
       "      <th></th>\n",
       "      <th>tag</th>\n",
       "    </tr>\n",
       "  </thead>\n",
       "  <tbody>\n",
       "    <tr>\n",
       "      <th>0</th>\n",
       "      <td>B-academic</td>\n",
       "    </tr>\n",
       "    <tr>\n",
       "      <th>1</th>\n",
       "      <td>B-academic_person</td>\n",
       "    </tr>\n",
       "    <tr>\n",
       "      <th>2</th>\n",
       "      <td>B-aircraft</td>\n",
       "    </tr>\n",
       "    <tr>\n",
       "      <th>3</th>\n",
       "      <td>B-album_person</td>\n",
       "    </tr>\n",
       "    <tr>\n",
       "      <th>4</th>\n",
       "      <td>B-anatomy</td>\n",
       "    </tr>\n",
       "    <tr>\n",
       "      <th>...</th>\n",
       "      <td>...</td>\n",
       "    </tr>\n",
       "    <tr>\n",
       "      <th>90</th>\n",
       "      <td>I-subject</td>\n",
       "    </tr>\n",
       "    <tr>\n",
       "      <th>91</th>\n",
       "      <td>I-tech</td>\n",
       "    </tr>\n",
       "    <tr>\n",
       "      <th>92</th>\n",
       "      <td>I-train</td>\n",
       "    </tr>\n",
       "    <tr>\n",
       "      <th>93</th>\n",
       "      <td>I-vehicle</td>\n",
       "    </tr>\n",
       "    <tr>\n",
       "      <th>94</th>\n",
       "      <td>O</td>\n",
       "    </tr>\n",
       "  </tbody>\n",
       "</table>\n",
       "<p>95 rows × 1 columns</p>\n",
       "</div>"
      ],
      "text/plain": [
       "                  tag\n",
       "0          B-academic\n",
       "1   B-academic_person\n",
       "2          B-aircraft\n",
       "3      B-album_person\n",
       "4           B-anatomy\n",
       "..                ...\n",
       "90          I-subject\n",
       "91             I-tech\n",
       "92            I-train\n",
       "93          I-vehicle\n",
       "94                  O\n",
       "\n",
       "[95 rows x 1 columns]"
      ]
     },
     "execution_count": 7,
     "metadata": {},
     "output_type": "execute_result"
    }
   ],
   "source": [
    "tag_data"
   ]
  },
  {
   "cell_type": "code",
   "execution_count": 8,
   "metadata": {
    "colab": {
     "base_uri": "https://localhost:8080/",
     "height": 363
    },
    "colab_type": "code",
    "id": "mCKmz4SAbI_m",
    "outputId": "a03b1aed-dc60-4f03-cb06-19e440fa6367"
   },
   "outputs": [
    {
     "name": "stdout",
     "output_type": "stream",
     "text": [
      "Unique tags in corpus:  95\n"
     ]
    }
   ],
   "source": [
    "print(\"Unique tags in corpus: \", tag_data['tag'].nunique())"
   ]
  },
  {
   "cell_type": "code",
   "execution_count": 9,
   "metadata": {},
   "outputs": [
    {
     "data": {
      "text/plain": [
       "<AxesSubplot:xlabel='tag', ylabel='count'>"
      ]
     },
     "execution_count": 9,
     "metadata": {},
     "output_type": "execute_result"
    },
    {
     "data": {
      "image/png": "[encoded data removed]",
      "text/plain": [
       "<Figure size 432x288 with 1 Axes>"
      ]
     },
     "metadata": {
      "needs_background": "light"
     },
     "output_type": "display_data"
    }
   ],
   "source": [
    "import seaborn as sns\n",
    "import tkinter\n",
    "import matplotlib\n",
    "matplotlib.use('agg')\n",
    "import matplotlib.pyplot as plt\n",
    "%matplotlib inline\n",
    "sns.countplot(x='tag', data=data)"
   ]
  },
  {
   "cell_type": "code",
   "execution_count": 10,
   "metadata": {
    "colab": {
     "base_uri": "https://localhost:8080/",
     "height": 34
    },
    "colab_type": "code",
    "id": "riOztP-8NXHT",
    "outputId": "200d251b-17c9-451b-9e96-523f458be47e"
   },
   "outputs": [],
   "source": [
    "words = list(set(data[\"word\"].values))\n",
    "words.append(\"ENDPAD\")\n",
    "num_words = len(words)"
   ]
  },
  {
   "cell_type": "code",
   "execution_count": 11,
   "metadata": {},
   "outputs": [],
   "source": [
    "tags = list(set(data[\"tag\"].values))\n",
    "num_tags = len(tags)"
   ]
  },
  {
   "cell_type": "code",
   "execution_count": 12,
   "metadata": {},
   "outputs": [
    {
     "data": {
      "text/plain": [
       "(452446, 95)"
      ]
     },
     "execution_count": 12,
     "metadata": {},
     "output_type": "execute_result"
    }
   ],
   "source": [
    "num_words, num_tags"
   ]
  },
  {
   "cell_type": "code",
   "execution_count": 13,
   "metadata": {},
   "outputs": [
    {
     "data": {
      "text/plain": [
       "'NGC'"
      ]
     },
     "execution_count": 13,
     "metadata": {},
     "output_type": "execute_result"
    }
   ],
   "source": [
    "data[\"word\"][0]"
   ]
  },
  {
   "cell_type": "markdown",
   "metadata": {
    "colab_type": "text",
    "id": "M9D9JEzUbdnS"
   },
   "source": [
    "### 3: Retrieve Sentences and Corresponsing Tags"
   ]
  },
  {
   "cell_type": "code",
   "execution_count": 14,
   "metadata": {
    "colab": {},
    "colab_type": "code",
    "id": "VdJst_g5NYY_"
   },
   "outputs": [],
   "source": [
    "def SentenceGetter(data):\n",
    "    word = data[\"word\"]\n",
    "    tag = data[\"tag\"]\n",
    "    sentences = []\n",
    "    stc = []\n",
    "    for w, t in zip(data[\"word\"].values.tolist() , data[\"tag\"].values.tolist()):\n",
    "        if w != ' ':\n",
    "            sentences.append((w , t)) \n",
    "        \n",
    "        if w == '.':\n",
    "            stc.append(sentences)\n",
    "            sentences = []\n",
    "    return stc"
   ]
  },
  {
   "cell_type": "code",
   "execution_count": 15,
   "metadata": {
    "colab": {},
    "colab_type": "code",
    "id": "nMUQLppspkPj"
   },
   "outputs": [
    {
     "data": {
      "text/plain": [
       "[('NGC', 'B-space'),\n",
       " ('5713', 'I-space'),\n",
       " ('Başak', 'O'),\n",
       " ('takımyıldızı', 'O'),\n",
       " ('bölgesinde', 'O'),\n",
       " ('bulunan', 'O'),\n",
       " ('tuhaf', 'O'),\n",
       " ('asimetrik', 'O'),\n",
       " ('gökada', 'O'),\n",
       " ('.', 'O')]"
      ]
     },
     "execution_count": 15,
     "metadata": {},
     "output_type": "execute_result"
    }
   ],
   "source": [
    "sentences = SentenceGetter(data)\n",
    "sentences[0]"
   ]
  },
  {
   "cell_type": "markdown",
   "metadata": {
    "colab_type": "text",
    "id": "ldhuogX4eHE4"
   },
   "source": [
    "### 4: Define Mappings between Sentences and Tags"
   ]
  },
  {
   "cell_type": "code",
   "execution_count": 16,
   "metadata": {
    "colab": {},
    "colab_type": "code",
    "id": "SvENHO18pkaQ"
   },
   "outputs": [],
   "source": [
    "# enumerate() -> add a counter to an iterable and returns it\n",
    "word2idx = {w: i+1 for i, w in enumerate(words)}\n",
    "tag2idx = {t: i for i, t in enumerate(tags)}"
   ]
  },
  {
   "cell_type": "code",
   "execution_count": 17,
   "metadata": {},
   "outputs": [
    {
     "data": {
      "text/plain": [
       "{'B-quantity': 0,\n",
       " 'I-architect_person': 1,\n",
       " 'B-organization': 2,\n",
       " 'I-ship': 3,\n",
       " 'B-government': 4,\n",
       " 'B-ship': 5,\n",
       " 'I-sport': 6,\n",
       " 'B-subject': 7,\n",
       " 'I-organization': 8,\n",
       " 'B-genre': 9,\n",
       " 'B-newspaper': 10,\n",
       " 'I-military_person': 11,\n",
       " 'B-measure': 12,\n",
       " 'I-tech': 13,\n",
       " 'B-chemical': 14,\n",
       " 'I-chemical': 15,\n",
       " 'I-country': 16,\n",
       " 'B-train': 17,\n",
       " 'B-medical': 18,\n",
       " 'I-currency': 19,\n",
       " 'B-organization_person': 20,\n",
       " 'I-food': 21,\n",
       " 'B-capital': 22,\n",
       " 'O': 23,\n",
       " 'B-clothes': 24,\n",
       " 'B-structure': 25,\n",
       " 'B-military_person': 26,\n",
       " 'I-language': 27,\n",
       " 'B-nation': 28,\n",
       " 'B-sport_person': 29,\n",
       " 'B-military': 30,\n",
       " 'B-material': 31,\n",
       " 'B-location': 32,\n",
       " 'B-culture': 33,\n",
       " 'I-science': 34,\n",
       " 'I-anatomy': 35,\n",
       " 'B-sport_name': 36,\n",
       " 'I-location': 37,\n",
       " 'I-subject': 38,\n",
       " 'I-government_person': 39,\n",
       " 'B-aircraft': 40,\n",
       " 'I-sport_name': 41,\n",
       " 'B-currency': 42,\n",
       " 'B-sport': 43,\n",
       " 'I-space_person': 44,\n",
       " 'B-anatomy': 45,\n",
       " 'B-album_person': 46,\n",
       " 'I-organization_person': 47,\n",
       " 'I-culture': 48,\n",
       " 'I-measure': 49,\n",
       " 'B-shape': 50,\n",
       " 'B-language': 51,\n",
       " 'I-structure': 52,\n",
       " 'I-production_art_music_person': 53,\n",
       " 'B-space_person': 54,\n",
       " 'B-person': 55,\n",
       " 'B-science': 56,\n",
       " 'B-tech': 57,\n",
       " 'I-clothes': 58,\n",
       " 'I-government': 59,\n",
       " 'B-academic_person': 60,\n",
       " 'I-vehicle': 61,\n",
       " 'B-space': 62,\n",
       " 'I-nation': 63,\n",
       " 'I-newspaper': 64,\n",
       " 'B-production_art_music_person': 65,\n",
       " 'I-academic_person': 66,\n",
       " 'I-software': 67,\n",
       " 'I-academic': 68,\n",
       " 'I-production_art_music': 69,\n",
       " 'I-animal': 70,\n",
       " 'B-date': 71,\n",
       " 'I-space': 72,\n",
       " 'B-architect_person': 73,\n",
       " 'I-aircraft': 74,\n",
       " 'B-religion': 75,\n",
       " 'I-genre': 76,\n",
       " 'B-food': 77,\n",
       " 'I-medical': 78,\n",
       " 'B-vehicle': 79,\n",
       " 'B-government_person': 80,\n",
       " 'I-sport_person': 81,\n",
       " 'B-country': 82,\n",
       " 'I-material': 83,\n",
       " 'B-academic': 84,\n",
       " 'B-animal': 85,\n",
       " 'I-person': 86,\n",
       " 'B-software': 87,\n",
       " 'I-religion': 88,\n",
       " 'I-date': 89,\n",
       " 'I-capital': 90,\n",
       " 'B-production_art_music': 91,\n",
       " 'I-album_person': 92,\n",
       " 'I-military': 93,\n",
       " 'I-train': 94}"
      ]
     },
     "execution_count": 17,
     "metadata": {},
     "output_type": "execute_result"
    }
   ],
   "source": [
    "tag2idx"
   ]
  },
  {
   "cell_type": "markdown",
   "metadata": {
    "colab_type": "text",
    "id": "zXzE0MdsemCH"
   },
   "source": [
    "### 5: Padding Input Sentences and Creating Train/Test Splits"
   ]
  },
  {
   "cell_type": "code",
   "execution_count": 18,
   "metadata": {
    "colab": {
     "base_uri": "https://localhost:8080/",
     "height": 265
    },
    "colab_type": "code",
    "id": "R44g5T7NYp_H",
    "outputId": "135a85a6-7a85-4b16-a8eb-3ad7bd4da5b6"
   },
   "outputs": [
    {
     "data": {
      "image/png": "[encoded data removed]",
      "text/plain": [
       "<Figure size 432x288 with 1 Axes>"
      ]
     },
     "metadata": {
      "needs_background": "light"
     },
     "output_type": "display_data"
    }
   ],
   "source": [
    "plt.hist([len(s) for s in sentences], bins=100)\n",
    "plt.show()"
   ]
  },
  {
   "cell_type": "code",
   "execution_count": 19,
   "metadata": {
    "colab": {},
    "colab_type": "code",
    "id": "FS4u3CRkpkc1"
   },
   "outputs": [],
   "source": [
    "from tensorflow.keras.preprocessing.sequence import pad_sequences\n",
    "from tensorflow.keras.utils import to_categorical\n",
    "\n",
    "max_len = 50\n",
    "\n",
    "X = [[word2idx[w[0]] for w in s] for s in sentences]\n",
    "X = pad_sequences(maxlen=max_len, sequences=X, padding='post', value=num_words-1)\n",
    "\n",
    "y = [[tag2idx[w[1]] for w in s] for s in sentences]\n",
    "y = pad_sequences(maxlen=max_len, sequences=y, padding='post', value=tag2idx[\"O\"])\n",
    "y = [to_categorical(i, num_classes=num_tags) for i in y]"
   ]
  },
  {
   "cell_type": "code",
   "execution_count": 20,
   "metadata": {},
   "outputs": [
    {
     "data": {
      "text/plain": [
       "array([ 22217, 429922, 145048, 425674, 404635, 306038,  14378, 111441,\n",
       "       128108,  77209, 452445, 452445, 452445, 452445, 452445, 452445,\n",
       "       452445, 452445, 452445, 452445, 452445, 452445, 452445, 452445,\n",
       "       452445, 452445, 452445, 452445, 452445, 452445, 452445, 452445,\n",
       "       452445, 452445, 452445, 452445, 452445, 452445, 452445, 452445,\n",
       "       452445, 452445, 452445, 452445, 452445, 452445, 452445, 452445,\n",
       "       452445, 452445])"
      ]
     },
     "execution_count": 20,
     "metadata": {},
     "output_type": "execute_result"
    }
   ],
   "source": [
    "X[0]"
   ]
  },
  {
   "cell_type": "code",
   "execution_count": 21,
   "metadata": {
    "colab": {},
    "colab_type": "code",
    "id": "q7VfnnkXpkfS"
   },
   "outputs": [],
   "source": [
    "from sklearn.model_selection import train_test_split\n",
    "x_train, x_test, y_train, y_test = train_test_split(X, y, test_size=0.1, random_state=1)"
   ]
  },
  {
   "cell_type": "markdown",
   "metadata": {
    "colab_type": "text",
    "id": "P-r4PR85hpoF"
   },
   "source": [
    "### 6: Build and Compile a Bidirectional LSTM Model"
   ]
  },
  {
   "cell_type": "code",
   "execution_count": 22,
   "metadata": {
    "colab": {},
    "colab_type": "code",
    "id": "Y2vM7IkXpkiH"
   },
   "outputs": [],
   "source": [
    "from tensorflow.keras import Model, Input\n",
    "from tensorflow.keras.layers import LSTM, Embedding, Dense\n",
    "from tensorflow.keras.layers import TimeDistributed, SpatialDropout1D, Bidirectional"
   ]
  },
  {
   "cell_type": "code",
   "execution_count": 23,
   "metadata": {
    "colab": {
     "base_uri": "https://localhost:8080/",
     "height": 330
    },
    "colab_type": "code",
    "id": "Aee3mCZ3pkkv",
    "outputId": "b7fb911b-21d1-43e6-adc9-bb2d8bdfb921"
   },
   "outputs": [
    {
     "name": "stdout",
     "output_type": "stream",
     "text": [
      "WARNING:tensorflow:Layer lstm will not use cuDNN kernel since it doesn't meet the cuDNN kernel criteria. It will use generic GPU kernel as fallback when running on GPU\n",
      "WARNING:tensorflow:Layer lstm will not use cuDNN kernel since it doesn't meet the cuDNN kernel criteria. It will use generic GPU kernel as fallback when running on GPU\n",
      "WARNING:tensorflow:Layer lstm will not use cuDNN kernel since it doesn't meet the cuDNN kernel criteria. It will use generic GPU kernel as fallback when running on GPU\n",
      "Model: \"functional_1\"\n",
      "_________________________________________________________________\n",
      "Layer (type)                 Output Shape              Param #   \n",
      "=================================================================\n",
      "input_1 (InputLayer)         [(None, 50)]              0         \n",
      "_________________________________________________________________\n",
      "embedding (Embedding)        (None, 50, 50)            22622300  \n",
      "_________________________________________________________________\n",
      "spatial_dropout1d (SpatialDr (None, 50, 50)            0         \n",
      "_________________________________________________________________\n",
      "bidirectional (Bidirectional (None, 50, 200)           120800    \n",
      "_________________________________________________________________\n",
      "time_distributed (TimeDistri (None, 50, 95)            19095     \n",
      "=================================================================\n",
      "Total params: 22,762,195\n",
      "Trainable params: 22,762,195\n",
      "Non-trainable params: 0\n",
      "_________________________________________________________________\n"
     ]
    }
   ],
   "source": [
    "input_word = Input(shape=(max_len,))\n",
    "model = Embedding(input_dim=num_words, output_dim=max_len, input_length=max_len)(input_word)\n",
    "# SpatialDropout1D -> rather than dropping dropping individual nodes, it drops the entire 1D feature map\n",
    "model = SpatialDropout1D(0.1)(model)\n",
    "# Rather than RNN, we are using LSTM to avoid Vanishing Gradient Problem\n",
    "# using Bi-directional LSTM because, our model can learn from the entire input, rather than just the previous timestamps\n",
    "model = Bidirectional(LSTM(units=100, return_sequences=True, recurrent_dropout=0.1))(model)\n",
    "out = TimeDistributed(Dense(num_tags, activation='softmax'))(model)\n",
    "model = Model(input_word, out)\n",
    "model.summary()"
   ]
  },
  {
   "cell_type": "code",
   "execution_count": 24,
   "metadata": {
    "colab": {},
    "colab_type": "code",
    "id": "kOBpQg26pkqh"
   },
   "outputs": [],
   "source": [
    "model.compile(optimizer='adam',\n",
    "             loss='categorical_crossentropy',\n",
    "             metrics=['accuracy'])"
   ]
  },
  {
   "cell_type": "markdown",
   "metadata": {
    "colab_type": "text",
    "id": "My0tL0cciMXQ"
   },
   "source": [
    "### 7: Train the Model"
   ]
  },
  {
   "cell_type": "code",
   "execution_count": 25,
   "metadata": {},
   "outputs": [],
   "source": [
    "from tensorflow.keras.callbacks import ModelCheckpoint, EarlyStopping\n",
    "from livelossplot.tf_keras import PlotLossesCallback\n",
    "from livelossplot import PlotLossesKeras\n",
    "import keras\n",
    "from keras.models import load_model"
   ]
  },
  {
   "cell_type": "code",
   "execution_count": 26,
   "metadata": {
    "colab": {
     "base_uri": "https://localhost:8080/",
     "height": 536
    },
    "colab_type": "code",
    "id": "Q9HWH06Ypkxh",
    "outputId": "e83ba281-0c14-4bca-dacb-cb708edacba5"
   },
   "outputs": [
    {
     "data": {
      "image/png": "[encoded data removed]",
      "text/plain": [
       "<Figure size 864x576 with 2 Axes>"
      ]
     },
     "metadata": {
      "needs_background": "light"
     },
     "output_type": "display_data"
    },
    {
     "name": "stdout",
     "output_type": "stream",
     "text": [
      "accuracy\n",
      "\ttraining         \t (min:    0.960, max:    0.981, cur:    0.981)\n",
      "\tvalidation       \t (min:    0.969, max:    0.973, cur:    0.973)\n",
      "Loss\n",
      "\ttraining         \t (min:    0.062, max:    0.181, cur:    0.062)\n",
      "\tvalidation       \t (min:    0.097, max:    0.113, cur:    0.097)\n",
      "\n",
      "Epoch 00003: val_loss improved from 0.09762 to 0.09749, saving model to model_ner_new.h5\n",
      "7289/7289 [==============================] - 3184s 437ms/step - loss: 0.0616 - accuracy: 0.9807 - val_loss: 0.0975 - val_accuracy: 0.9728\n"
     ]
    }
   ],
   "source": [
    "early_stopping = EarlyStopping(monitor='val_accuracy', patience=1, verbose=0, mode='max', restore_best_weights=False)\n",
    "\n",
    "filename = 'model_ner_new.h5'\n",
    "checkpoint = ModelCheckpoint(filename,\n",
    "                             monitor='val_loss',\n",
    "                             verbose=1,\n",
    "                             save_best_only=True,\n",
    "                             mode='min')\n",
    "\n",
    "callbacks = [PlotLossesKeras(), early_stopping, checkpoint]\n",
    "\n",
    "history = model.fit(\n",
    "    x_train, np.array(y_train),\n",
    "    validation_split=0.2,\n",
    "    batch_size=32,\n",
    "    epochs=3,\n",
    "    verbose=1,\n",
    "    callbacks=callbacks\n",
    ")"
   ]
  },
  {
   "cell_type": "markdown",
   "metadata": {
    "colab_type": "text",
    "id": "2nwnnF0ziU3B"
   },
   "source": [
    "### 8: Evaluate Named Entity Recognition Model"
   ]
  },
  {
   "cell_type": "code",
   "execution_count": 27,
   "metadata": {},
   "outputs": [
    {
     "name": "stdout",
     "output_type": "stream",
     "text": [
      "WARNING:tensorflow:Layer lstm will not use cuDNN kernel since it doesn't meet the cuDNN kernel criteria. It will use generic GPU kernel as fallback when running on GPU\n",
      "WARNING:tensorflow:Layer lstm will not use cuDNN kernel since it doesn't meet the cuDNN kernel criteria. It will use generic GPU kernel as fallback when running on GPU\n",
      "WARNING:tensorflow:Layer lstm will not use cuDNN kernel since it doesn't meet the cuDNN kernel criteria. It will use generic GPU kernel as fallback when running on GPU\n"
     ]
    }
   ],
   "source": [
    "model_ner_new = load_model(\"model_ner_new.h5\")"
   ]
  },
  {
   "cell_type": "code",
   "execution_count": 28,
   "metadata": {
    "colab": {
     "base_uri": "https://localhost:8080/",
     "height": 52
    },
    "colab_type": "code",
    "id": "6euqX7UHplG7",
    "outputId": "7222c24c-52c5-454b-a5d4-03d6df4173f0"
   },
   "outputs": [
    {
     "name": "stdout",
     "output_type": "stream",
     "text": [
      "1013/1013 [==============================] - 21s 20ms/step - loss: 0.0969 - accuracy: 0.97300s - loss: 0.0970 - accu\n"
     ]
    },
    {
     "data": {
      "text/plain": [
       "[0.09693113714456558, 0.9729602336883545]"
      ]
     },
     "execution_count": 28,
     "metadata": {},
     "output_type": "execute_result"
    }
   ],
   "source": [
    "model.evaluate(x_test, np.array(y_test))"
   ]
  },
  {
   "cell_type": "code",
   "execution_count": 29,
   "metadata": {
    "colab": {
     "base_uri": "https://localhost:8080/",
     "height": 920
    },
    "colab_type": "code",
    "id": "Tyg4mKOVplJ-",
    "outputId": "59e897c3-cb77-4dc2-a239-dea2c94eec42"
   },
   "outputs": [
    {
     "name": "stdout",
     "output_type": "stream",
     "text": [
      "word           True \t Pred\n",
      "\n",
      "------------------------------\n",
      "Mor            B-location\tO\n",
      "Gabriel        I-location\tO\n",
      "Manastırı      I-location\tO\n",
      ",              O\tO\n",
      "dünyanın       O\tO\n",
      "ayakta         O\tO\n",
      "duran          O\tO\n",
      "en             O\tO\n",
      "eski           O\tO\n",
      "Süryani        O\tO\n",
      "Ortodoks       O\tO\n",
      "manastırıdır   B-location\tO\n",
      ".              O\tO\n",
      "Maniler        O\tO\n",
      "Maniler        O\tO\n"
     ]
    }
   ],
   "source": [
    "i = np.random.randint(0, x_test.shape[0])\n",
    "p = model.predict(np.array([x_test[i]]))\n",
    "p = np.argmax(p, axis=-1)\n",
    "\n",
    "y_true = np.argmax(np.array(y_test), axis=-1)[i]\n",
    "print(\"{:15}{:5}\\t {}\\n\".format(\"word\", \"True\", \"Pred\"))\n",
    "print(\"-\"*30)\n",
    "\n",
    "idx = 0\n",
    "for w, true, pred in zip(x_test[i], y_true, p[0]):\n",
    "    print(\"{:15}{}\\t{}\".format(words[w-1], tags[true], tags[pred]))\n",
    "    idx += 1\n",
    "    if idx == 15:\n",
    "        break"
   ]
  },
  {
   "cell_type": "code",
   "execution_count": 30,
   "metadata": {},
   "outputs": [],
   "source": [
    "def text_process(text):\n",
    "    seq = []\n",
    "    for w in text.split():\n",
    "        try:\n",
    "            seq.append(word2idx[w])\n",
    "        except:\n",
    "            seq.append(num_words-1)\n",
    "\n",
    "    sz = len(seq)\n",
    "    # print(seq)\n",
    "    for _ in range(sz, 50):\n",
    "        seq.append(num_words-1)\n",
    "    seq = np.array(seq, dtype=int)\n",
    "    return seq, sz"
   ]
  },
  {
   "cell_type": "code",
   "execution_count": 31,
   "metadata": {},
   "outputs": [],
   "source": [
    "def get_ner(text):\n",
    "    seq, sz = text_process(text)\n",
    "    \n",
    "    p = model_ner_new.predict(np.array([seq]))\n",
    "    p = np.argmax(p, axis=-1)\n",
    "\n",
    "    idx = 0\n",
    "    for w, pred in zip(seq, p[0]):\n",
    "        if tags[pred] != 'O':\n",
    "            print(\"{:15}\\t{}\".format(words[w-1], tags[pred]))\n",
    "        idx += 1\n",
    "        if idx == sz:\n",
    "            break"
   ]
  },
  {
   "cell_type": "code",
   "execution_count": 32,
   "metadata": {},
   "outputs": [
    {
     "name": "stdout",
     "output_type": "stream",
     "text": [
      "Albert         \tB-person\n",
      "Einstein       \tI-person\n"
     ]
    }
   ],
   "source": [
    "get_ner('Albert Einstein dünyanın gelmiş geçmiş en iyi fizikçilerindendir.')"
   ]
  },
  {
   "cell_type": "code",
   "execution_count": 33,
   "metadata": {},
   "outputs": [
    {
     "name": "stdout",
     "output_type": "stream",
     "text": [
      "Grammy         \tB-production_art_music\n",
      "ödülleri       \tI-production_art_music\n",
      "Fransa         \tB-nation\n",
      "Başkanı        \tB-government\n"
     ]
    }
   ],
   "source": [
    "get_ner('Grammy ödülleri Fransa Devlet Başkanı tarafından verildi.')"
   ]
  },
  {
   "cell_type": "code",
   "execution_count": 34,
   "metadata": {},
   "outputs": [
    {
     "name": "stdout",
     "output_type": "stream",
     "text": [
      "Futbolda       \tB-sport\n",
      "Brezilyanın    \tB-country\n"
     ]
    }
   ],
   "source": [
    "get_ner('Futbolda dünya kupası Brezilyanın oldu.')"
   ]
  },
  {
   "cell_type": "code",
   "execution_count": 35,
   "metadata": {},
   "outputs": [
    {
     "name": "stdout",
     "output_type": "stream",
     "text": [
      "Türkiye        \tB-nation\n"
     ]
    }
   ],
   "source": [
    "get_ner('Türkiye Büyük Millet Meclisi')"
   ]
  }
 ],
 "metadata": {
  "accelerator": "GPU",
  "celltoolbar": "Edit Metadata",
  "colab": {
   "collapsed_sections": [],
   "name": "NER.ipynb",
   "provenance": []
  },
  "kernelspec": {
   "display_name": "Python 3",
   "language": "python",
   "name": "python3"
  },
  "language_info": {
   "codemirror_mode": {
    "name": "ipython",
    "version": 3
   },
   "file_extension": ".py",
   "mimetype": "text/x-python",
   "name": "python",
   "nbconvert_exporter": "python",
   "pygments_lexer": "ipython3",
   "version": "3.8.5"
  },
  "widgets": {
   "application/vnd.jupyter.widget-state+json": {
    "state": {},
    "version_major": 2,
    "version_minor": 0
   }
  }
 },
 "nbformat": 4,
 "nbformat_minor": 1
}
